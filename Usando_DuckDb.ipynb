{
 "cells": [
  {
   "metadata": {},
   "cell_type": "markdown",
   "source": "## Usando Duckdb",
   "id": "cb089b5a25c1f234"
  },
  {
   "metadata": {},
   "cell_type": "code",
   "source": [
    "import os\n",
    "import pandas as pd\n",
    "import dask.dataframe as dd\n",
    "import duckdb\n",
    "import matplotlib.pyplot as plt\n",
    "\n",
    "# Diretório a ser listado (usando string bruta para evitar problemas com caracteres de escape)\n",
    "directory = r'C:\\Users\\karin\\OneDrive\\Área de Trabalho\\data science\\15. Ferramentas de visualização-20240730T225634Z-001\\15. Ferramentas de visualização\\Base de dados\\CSV'\n",
    "\n",
    "# Listar arquivos no diretório e coletar detalhes\n",
    "file_details = []\n",
    "\n",
    "# Usando os.walk para listar arquivos no diretório\n",
    "for root, dirs, files in os.walk(directory):\n",
    "    for file in files:\n",
    "        file_path = os.path.join(root, file)\n",
    "        file_info = {\n",
    "            'path': file_path,\n",
    "            'name': file,\n",
    "            'size': os.path.getsize(file_path),\n",
    "            'modificationTime': os.path.getmtime(file_path)\n",
    "        }\n",
    "        file_details.append(file_info)\n",
    "\n",
    "# Verificar se foram encontrados arquivos\n",
    "if not file_details:\n",
    "    print(\"Nenhum arquivo encontrado no diretório especificado.\")\n",
    "else:\n",
    "    # Criar um DataFrame pandas com os detalhes dos arquivos\n",
    "    df_pandas = pd.DataFrame(file_details)\n",
    "\n",
    "    # Verificar se o DataFrame pandas está preenchido\n",
    "    if df_pandas.empty:\n",
    "        print(\"DataFrame pandas está vazio.\")\n",
    "    else:\n",
    "        # Exibir o DataFrame pandas\n",
    "        print(\"DataFrame pandas com detalhes dos arquivos:\")\n",
    "        print(df_pandas)\n",
    "\n",
    "        # Converter para Dask DataFrame\n",
    "        df_dask = dd.from_pandas(df_pandas, npartitions=3)\n",
    "\n",
    "        # Exibir as primeiras linhas do DataFrame Dask\n",
    "        print(\"DataFrame Dask com detalhes dos arquivos:\")\n",
    "        df_head = df_dask.head()\n",
    "        print(df_head)\n",
    "\n",
    "        # Computar explicitamente o DataFrame Dask para outras operações\n",
    "        df_computed = df_dask.compute()\n",
    "        print(\"DataFrame Dask computado:\")\n",
    "        print(df_computed.head())\n",
    "\n",
    "        # Usar DuckDB para consulta e análise\n",
    "        con = duckdb.connect(database=':memory:')\n",
    "\n",
    "        # Registrar DataFrame pandas no DuckDB\n",
    "        con.register('file_details', df_pandas)\n",
    "\n",
    "        # Exemplo de consulta: Obter arquivos com tamanho maior que 1MB\n",
    "        result = con.execute(\"SELECT * FROM file_details WHERE size > 1 * 1024 * 1024\").fetchdf()\n",
    "        print(\"Arquivos maiores que 1MB:\")\n",
    "        print(result)\n",
    "\n",
    "        # Exemplo de visualização: Tamanho dos arquivos\n",
    "        plt.figure(figsize=(10, 6))\n",
    "        plt.barh(result['name'], result['size'])\n",
    "        plt.xlabel('Size (bytes)')\n",
    "        plt.ylabel('File Name')\n",
    "        plt.title('File Sizes Greater Than 1MB')\n",
    "        plt.show()\n"
   ],
   "id": "aba6811f04203cd3",
   "outputs": [
    {
     "name": "stdout",
     "output_type": "stream",
     "text": [
      "                                                path        name   size  \\\n",
      "0  C:\\Users\\karin\\OneDrive\\Área de Trabalho\\data ...  201001.csv  20859   \n",
      "1  C:\\Users\\karin\\OneDrive\\Área de Trabalho\\data ...  201002.csv  19108   \n",
      "2  C:\\Users\\karin\\OneDrive\\Área de Trabalho\\data ...  201003.csv  24489   \n",
      "3  C:\\Users\\karin\\OneDrive\\Área de Trabalho\\data ...  201004.csv  11322   \n",
      "4  C:\\Users\\karin\\OneDrive\\Área de Trabalho\\data ...  201005.csv  14111   \n",
      "\n",
      "   modificationTime  \n",
      "0      1.722380e+09  \n",
      "1      1.722380e+09  \n",
      "2      1.722380e+09  \n",
      "3      1.722380e+09  \n",
      "4      1.722380e+09  \n",
      "DataFrame Dask computado:\n",
      "                                                path        name   size  \\\n",
      "0  C:\\Users\\karin\\OneDrive\\Área de Trabalho\\data ...  201001.csv  20859   \n",
      "1  C:\\Users\\karin\\OneDrive\\Área de Trabalho\\data ...  201002.csv  19108   \n",
      "2  C:\\Users\\karin\\OneDrive\\Área de Trabalho\\data ...  201003.csv  24489   \n",
      "3  C:\\Users\\karin\\OneDrive\\Área de Trabalho\\data ...  201004.csv  11322   \n",
      "4  C:\\Users\\karin\\OneDrive\\Área de Trabalho\\data ...  201005.csv  14111   \n",
      "\n",
      "   modificationTime  \n",
      "0      1.722380e+09  \n",
      "1      1.722380e+09  \n",
      "2      1.722380e+09  \n",
      "3      1.722380e+09  \n",
      "4      1.722380e+09  \n",
      "Arquivos maiores que 1MB:\n",
      "Empty DataFrame\n",
      "Columns: [path, name, size, modificationTime]\n",
      "Index: []\n"
     ]
    },
    {
     "data": {
      "text/plain": [
       "<Figure size 1000x600 with 1 Axes>"
      ],
      "image/png": "[encoded data removed]"
     },
     "metadata": {},
     "output_type": "display_data"
    },
    {
     "name": "stdout",
     "output_type": "stream",
     "text": [
      "DataFrame pandas com detalhes dos arquivos:\n",
      "                                                 path        name   size  \\\n",
      "0   C:\\Users\\karin\\OneDrive\\Área de Trabalho\\data ...  201001.csv  20859   \n",
      "1   C:\\Users\\karin\\OneDrive\\Área de Trabalho\\data ...  201002.csv  19108   \n",
      "2   C:\\Users\\karin\\OneDrive\\Área de Trabalho\\data ...  201003.csv  24489   \n",
      "3   C:\\Users\\karin\\OneDrive\\Área de Trabalho\\data ...  201004.csv  11322   \n",
      "4   C:\\Users\\karin\\OneDrive\\Área de Trabalho\\data ...  201005.csv  14111   \n",
      "..                                                ...         ...    ...   \n",
      "86  C:\\Users\\karin\\OneDrive\\Área de Trabalho\\data ...  201703.csv  62192   \n",
      "87  C:\\Users\\karin\\OneDrive\\Área de Trabalho\\data ...  201704.csv  24355   \n",
      "88  C:\\Users\\karin\\OneDrive\\Área de Trabalho\\data ...  201705.csv  19923   \n",
      "89  C:\\Users\\karin\\OneDrive\\Área de Trabalho\\data ...  201706.csv  22141   \n",
      "90  C:\\Users\\karin\\OneDrive\\Área de Trabalho\\data ...  201707.csv  24020   \n",
      "\n",
      "    modificationTime  \n",
      "0       1.722380e+09  \n",
      "1       1.722380e+09  \n",
      "2       1.722380e+09  \n",
      "3       1.722380e+09  \n",
      "4       1.722380e+09  \n",
      "..               ...  \n",
      "86      1.722380e+09  \n",
      "87      1.722380e+09  \n",
      "88      1.722380e+09  \n",
      "89      1.722380e+09  \n",
      "90      1.722380e+09  \n",
      "\n",
      "[91 rows x 4 columns]\n",
      "DataFrame Dask com detalhes dos arquivos:\n"
     ]
    }
   ],
   "execution_count": 1
  },
  {
   "metadata": {},
   "cell_type": "code",
   "outputs": [],
   "execution_count": null,
   "source": "",
   "id": "37ffbe3aa437af86"
  },
  {
   "metadata": {},
   "cell_type": "markdown",
   "source": "## Mais exemplos de uso de DuckDB",
   "id": "fb7eb1d9e5b8862a"
  },
  {
   "metadata": {},
   "cell_type": "markdown",
   "source": "## Carregar Dados e Configurar DuckDB",
   "id": "e24c73d9921a38f9"
  },
  {
   "metadata": {
    "ExecuteTime": {
     "end_time": "2024-08-04T22:00:58.114027Z",
     "start_time": "2024-08-04T22:00:57.263138Z"
    }
   },
   "cell_type": "code",
   "source": [
    "import os\n",
    "import pandas as pd\n",
    "import dask.dataframe as dd\n",
    "import duckdb\n",
    "\n",
    "# Diretório a ser listado (usando string bruta para evitar problemas com caracteres de escape)\n",
    "directory = r'C:\\Users\\karin\\OneDrive\\Área de Trabalho\\data science\\15. Ferramentas de visualização-20240730T225634Z-001\\15. Ferramentas de visualização\\Base de dados\\CSV'\n",
    "\n",
    "# Listar arquivos no diretório e coletar detalhes\n",
    "file_details = []\n",
    "for root, dirs, files in os.walk(directory):\n",
    "    for file in files:\n",
    "        file_path = os.path.join(root, file)\n",
    "        file_info = {\n",
    "            'path': file_path,\n",
    "            'name': file,\n",
    "            'size': os.path.getsize(file_path),\n",
    "            'modificationTime': os.path.getmtime(file_path)\n",
    "        }\n",
    "        file_details.append(file_info)\n",
    "\n",
    "df_pandas = pd.DataFrame(file_details)\n",
    "\n",
    "# Conectar ao DuckDB e registrar o DataFrame pandas\n",
    "con = duckdb.connect(database=':memory:')\n",
    "con.register('file_details', df_pandas)\n",
    "\n",
    "# Verificar o DataFrame\n",
    "df_pandas.head()\n"
   ],
   "id": "4a8fa0c516d547db",
   "outputs": [
    {
     "data": {
      "text/plain": [
       "                                                path        name   size  \\\n",
       "0  C:\\Users\\karin\\OneDrive\\Área de Trabalho\\data ...  201001.csv  20859   \n",
       "1  C:\\Users\\karin\\OneDrive\\Área de Trabalho\\data ...  201002.csv  19108   \n",
       "2  C:\\Users\\karin\\OneDrive\\Área de Trabalho\\data ...  201003.csv  24489   \n",
       "3  C:\\Users\\karin\\OneDrive\\Área de Trabalho\\data ...  201004.csv  11322   \n",
       "4  C:\\Users\\karin\\OneDrive\\Área de Trabalho\\data ...  201005.csv  14111   \n",
       "\n",
       "   modificationTime  \n",
       "0      1.722380e+09  \n",
       "1      1.722380e+09  \n",
       "2      1.722380e+09  \n",
       "3      1.722380e+09  \n",
       "4      1.722380e+09  "
      ],
      "text/html": [
       "<div>\n",
       "<style scoped>\n",
       "    .dataframe tbody tr th:only-of-type {\n",
       "        vertical-align: middle;\n",
       "    }\n",
       "\n",
       "    .dataframe tbody tr th {\n",
       "        vertical-align: top;\n",
       "    }\n",
       "\n",
       "    .dataframe thead th {\n",
       "        text-align: right;\n",
       "    }\n",
       "</style>\n",
       "<table border=\"1\" class=\"dataframe\">\n",
       "  <thead>\n",
       "    <tr style=\"text-align: right;\">\n",
       "      <th></th>\n",
       "      <th>path</th>\n",
       "      <th>name</th>\n",
       "      <th>size</th>\n",
       "      <th>modificationTime</th>\n",
       "    </tr>\n",
       "  </thead>\n",
       "  <tbody>\n",
       "    <tr>\n",
       "      <th>0</th>\n",
       "      <td>C:\\Users\\karin\\OneDrive\\Área de Trabalho\\data ...</td>\n",
       "      <td>201001.csv</td>\n",
       "      <td>20859</td>\n",
       "      <td>1.722380e+09</td>\n",
       "    </tr>\n",
       "    <tr>\n",
       "      <th>1</th>\n",
       "      <td>C:\\Users\\karin\\OneDrive\\Área de Trabalho\\data ...</td>\n",
       "      <td>201002.csv</td>\n",
       "      <td>19108</td>\n",
       "      <td>1.722380e+09</td>\n",
       "    </tr>\n",
       "    <tr>\n",
       "      <th>2</th>\n",
       "      <td>C:\\Users\\karin\\OneDrive\\Área de Trabalho\\data ...</td>\n",
       "      <td>201003.csv</td>\n",
       "      <td>24489</td>\n",
       "      <td>1.722380e+09</td>\n",
       "    </tr>\n",
       "    <tr>\n",
       "      <th>3</th>\n",
       "      <td>C:\\Users\\karin\\OneDrive\\Área de Trabalho\\data ...</td>\n",
       "      <td>201004.csv</td>\n",
       "      <td>11322</td>\n",
       "      <td>1.722380e+09</td>\n",
       "    </tr>\n",
       "    <tr>\n",
       "      <th>4</th>\n",
       "      <td>C:\\Users\\karin\\OneDrive\\Área de Trabalho\\data ...</td>\n",
       "      <td>201005.csv</td>\n",
       "      <td>14111</td>\n",
       "      <td>1.722380e+09</td>\n",
       "    </tr>\n",
       "  </tbody>\n",
       "</table>\n",
       "</div>"
      ]
     },
     "execution_count": 2,
     "metadata": {},
     "output_type": "execute_result"
    }
   ],
   "execution_count": 2
  },
  {
   "metadata": {},
   "cell_type": "markdown",
   "source": [
    "## Consultas SQL com DuckDB\n",
    "Arquivos maiores que 10KB:"
   ],
   "id": "83518045df5b2e0c"
  },
  {
   "metadata": {
    "ExecuteTime": {
     "end_time": "2024-08-04T22:01:25.188747Z",
     "start_time": "2024-08-04T22:01:25.084663Z"
    }
   },
   "cell_type": "code",
   "source": [
    "query1 = \"\"\"\n",
    "SELECT * FROM file_details WHERE size > 10 * 1024\n",
    "\"\"\"\n",
    "result1 = con.execute(query1).fetchdf()\n",
    "print(result1)\n"
   ],
   "id": "2899a7a7a42309dd",
   "outputs": [
    {
     "name": "stdout",
     "output_type": "stream",
     "text": [
      "                                                 path        name   size  \\\n",
      "0   C:\\Users\\karin\\OneDrive\\Área de Trabalho\\data ...  201001.csv  20859   \n",
      "1   C:\\Users\\karin\\OneDrive\\Área de Trabalho\\data ...  201002.csv  19108   \n",
      "2   C:\\Users\\karin\\OneDrive\\Área de Trabalho\\data ...  201003.csv  24489   \n",
      "3   C:\\Users\\karin\\OneDrive\\Área de Trabalho\\data ...  201004.csv  11322   \n",
      "4   C:\\Users\\karin\\OneDrive\\Área de Trabalho\\data ...  201005.csv  14111   \n",
      "..                                                ...         ...    ...   \n",
      "85  C:\\Users\\karin\\OneDrive\\Área de Trabalho\\data ...  201703.csv  62192   \n",
      "86  C:\\Users\\karin\\OneDrive\\Área de Trabalho\\data ...  201704.csv  24355   \n",
      "87  C:\\Users\\karin\\OneDrive\\Área de Trabalho\\data ...  201705.csv  19923   \n",
      "88  C:\\Users\\karin\\OneDrive\\Área de Trabalho\\data ...  201706.csv  22141   \n",
      "89  C:\\Users\\karin\\OneDrive\\Área de Trabalho\\data ...  201707.csv  24020   \n",
      "\n",
      "    modificationTime  \n",
      "0       1.722380e+09  \n",
      "1       1.722380e+09  \n",
      "2       1.722380e+09  \n",
      "3       1.722380e+09  \n",
      "4       1.722380e+09  \n",
      "..               ...  \n",
      "85      1.722380e+09  \n",
      "86      1.722380e+09  \n",
      "87      1.722380e+09  \n",
      "88      1.722380e+09  \n",
      "89      1.722380e+09  \n",
      "\n",
      "[90 rows x 4 columns]\n"
     ]
    }
   ],
   "execution_count": 3
  },
  {
   "metadata": {},
   "cell_type": "markdown",
   "source": "## Quantidade de arquivos por tamanho (intervalos de 10KB):",
   "id": "1b61ead20f81494e"
  },
  {
   "metadata": {
    "ExecuteTime": {
     "end_time": "2024-08-04T22:01:51.906439Z",
     "start_time": "2024-08-04T22:01:51.856037Z"
    }
   },
   "cell_type": "code",
   "source": [
    "query2 = \"\"\"\n",
    "SELECT \n",
    "    FLOOR(size / 10240) * 10 AS size_range_kb, \n",
    "    COUNT(*) AS count \n",
    "FROM \n",
    "    file_details \n",
    "GROUP BY \n",
    "    size_range_kb \n",
    "ORDER BY \n",
    "    size_range_kb\n",
    "\"\"\"\n",
    "result2 = con.execute(query2).fetchdf()\n",
    "print(result2)\n"
   ],
   "id": "12badc2b1108a389",
   "outputs": [
    {
     "name": "stdout",
     "output_type": "stream",
     "text": [
      "   size_range_kb  count\n",
      "0            0.0      1\n",
      "1           10.0     33\n",
      "2           20.0     31\n",
      "3           30.0     16\n",
      "4           40.0      7\n",
      "5           50.0      2\n",
      "6           60.0      1\n"
     ]
    }
   ],
   "execution_count": 4
  },
  {
   "metadata": {},
   "cell_type": "markdown",
   "source": "## Média de tamanho dos arquivos:",
   "id": "4818ba3000ea2e7b"
  },
  {
   "metadata": {
    "ExecuteTime": {
     "end_time": "2024-08-04T22:02:13.753764Z",
     "start_time": "2024-08-04T22:02:13.729772Z"
    }
   },
   "cell_type": "code",
   "source": [
    "query3 = \"\"\"\n",
    "SELECT AVG(size) AS average_size FROM file_details\n",
    "\"\"\"\n",
    "result3 = con.execute(query3).fetchdf()\n",
    "print(result3)\n"
   ],
   "id": "358ef66809c2138d",
   "outputs": [
    {
     "name": "stdout",
     "output_type": "stream",
     "text": [
      "   average_size\n",
      "0  25337.835165\n"
     ]
    }
   ],
   "execution_count": 5
  },
  {
   "metadata": {},
   "cell_type": "markdown",
   "source": "## Arquivos mais recentes:",
   "id": "4f9642834899a432"
  },
  {
   "metadata": {
    "ExecuteTime": {
     "end_time": "2024-08-04T22:02:33.314641Z",
     "start_time": "2024-08-04T22:02:33.283443Z"
    }
   },
   "cell_type": "code",
   "source": [
    "query4 = \"\"\"\n",
    "SELECT * FROM file_details ORDER BY modificationTime DESC LIMIT 10\n",
    "\"\"\"\n",
    "result4 = con.execute(query4).fetchdf()\n",
    "print(result4)\n"
   ],
   "id": "66b20fa5370a899b",
   "outputs": [
    {
     "name": "stdout",
     "output_type": "stream",
     "text": [
      "                                                path        name   size  \\\n",
      "0  C:\\Users\\karin\\OneDrive\\Área de Trabalho\\data ...  201311.csv  24369   \n",
      "1  C:\\Users\\karin\\OneDrive\\Área de Trabalho\\data ...  201310.csv  40801   \n",
      "2  C:\\Users\\karin\\OneDrive\\Área de Trabalho\\data ...  201402.csv  27013   \n",
      "3  C:\\Users\\karin\\OneDrive\\Área de Trabalho\\data ...  201105.csv  21204   \n",
      "4  C:\\Users\\karin\\OneDrive\\Área de Trabalho\\data ...  201111.csv  12475   \n",
      "5  C:\\Users\\karin\\OneDrive\\Área de Trabalho\\data ...  201205.csv  17461   \n",
      "6  C:\\Users\\karin\\OneDrive\\Área de Trabalho\\data ...  201403.csv  52237   \n",
      "7  C:\\Users\\karin\\OneDrive\\Área de Trabalho\\data ...  201309.csv  43519   \n",
      "8  C:\\Users\\karin\\OneDrive\\Área de Trabalho\\data ...  201103.csv  43230   \n",
      "9  C:\\Users\\karin\\OneDrive\\Área de Trabalho\\data ...  201401.csv  31523   \n",
      "\n",
      "   modificationTime  \n",
      "0      1.722380e+09  \n",
      "1      1.722380e+09  \n",
      "2      1.722380e+09  \n",
      "3      1.722380e+09  \n",
      "4      1.722380e+09  \n",
      "5      1.722380e+09  \n",
      "6      1.722380e+09  \n",
      "7      1.722380e+09  \n",
      "8      1.722380e+09  \n",
      "9      1.722380e+09  \n"
     ]
    }
   ],
   "execution_count": 6
  },
  {
   "metadata": {},
   "cell_type": "markdown",
   "source": "## Soma do tamanho dos arquivos:",
   "id": "faae00bff4ff33ea"
  },
  {
   "metadata": {
    "ExecuteTime": {
     "end_time": "2024-08-04T22:02:55.886941Z",
     "start_time": "2024-08-04T22:02:55.864456Z"
    }
   },
   "cell_type": "code",
   "source": [
    "query5 = \"\"\"\n",
    "SELECT SUM(size) AS total_size FROM file_details\n",
    "\"\"\"\n",
    "result5 = con.execute(query5).fetchdf()\n",
    "print(result5)\n"
   ],
   "id": "9ae8d320e4289dd4",
   "outputs": [
    {
     "name": "stdout",
     "output_type": "stream",
     "text": [
      "   total_size\n",
      "0   2305743.0\n"
     ]
    }
   ],
   "execution_count": 7
  },
  {
   "metadata": {},
   "cell_type": "markdown",
   "source": "## Visualização dos Resultados",
   "id": "fac169e4bceba043"
  },
  {
   "metadata": {
    "ExecuteTime": {
     "end_time": "2024-08-04T22:03:17.159719Z",
     "start_time": "2024-08-04T22:03:15.820433Z"
    }
   },
   "cell_type": "code",
   "source": [
    "import matplotlib.pyplot as plt\n",
    "\n",
    "# Visualizar a quantidade de arquivos por tamanho (intervalos de 10KB)\n",
    "plt.figure(figsize=(10, 6))\n",
    "plt.bar(result2['size_range_kb'], result2['count'])\n",
    "plt.xlabel('File Size Range (KB)')\n",
    "plt.ylabel('Number of Files')\n",
    "plt.title('Number of Files by Size Range')\n",
    "plt.show()\n",
    "\n",
    "# Visualizar os arquivos mais recentes\n",
    "plt.figure(figsize=(10, 6))\n",
    "plt.barh(result4['name'], result4['modificationTime'])\n",
    "plt.xlabel('Modification Time')\n",
    "plt.ylabel('File Name')\n",
    "plt.title('Most Recent Files')\n",
    "plt.show()\n"
   ],
   "id": "b9b7a23bd8a64a8f",
   "outputs": [
    {
     "data": {
      "text/plain": [
       "<Figure size 1000x600 with 1 Axes>"
      ],
      "image/png": "[encoded data removed]"
     },
     "metadata": {},
     "output_type": "display_data"
    },
    {
     "data": {
      "text/plain": [
       "<Figure size 1000x600 with 1 Axes>"
      ],
      "image/png": "[encoded data removed]"
     },
     "metadata": {},
     "output_type": "display_data"
    }
   ],
   "execution_count": 8
  },
  {
   "metadata": {},
   "cell_type": "code",
   "outputs": [],
   "execution_count": null,
   "source": "",
   "id": "30be1e2f5b22aa2a"
  }
 ],
 "metadata": {
  "kernelspec": {
   "display_name": "Python 3",
   "language": "python",
   "name": "python3"
  },
  "language_info": {
   "codemirror_mode": {
    "name": "ipython",
    "version": 2
   },
   "file_extension": ".py",
   "mimetype": "text/x-python",
   "name": "python",
   "nbconvert_exporter": "python",
   "pygments_lexer": "ipython2",
   "version": "2.7.6"
  }
 },
 "nbformat": 4,
 "nbformat_minor": 5
}
